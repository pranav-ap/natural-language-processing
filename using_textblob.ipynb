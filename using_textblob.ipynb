{
 "cells": [
  {
   "cell_type": "code",
   "execution_count": 7,
   "metadata": {},
   "outputs": [],
   "source": [
    "from textblob import TextBlob, Word"
   ]
  },
  {
   "cell_type": "code",
   "execution_count": 2,
   "metadata": {},
   "outputs": [],
   "source": [
    "text = TextBlob(\"\"\"Tom Rhodes, a touring comedian for more than 30 years and\n",
    "                the host of the Tom Rhodes Radio podcast, joins Joey Diaz\n",
    "                and Lee Syatt LIVE in studio.\"\"\")"
   ]
  },
  {
   "cell_type": "code",
   "execution_count": 3,
   "metadata": {},
   "outputs": [
    {
     "data": {
      "text/plain": [
       "[('Tom', 'NNP'),\n",
       " ('Rhodes', 'NNP'),\n",
       " ('a', 'DT'),\n",
       " ('touring', 'NN'),\n",
       " ('comedian', 'NN'),\n",
       " ('for', 'IN'),\n",
       " ('more', 'JJR'),\n",
       " ('than', 'IN'),\n",
       " ('30', 'CD'),\n",
       " ('years', 'NNS'),\n",
       " ('and', 'CC'),\n",
       " ('the', 'DT'),\n",
       " ('host', 'NN'),\n",
       " ('of', 'IN'),\n",
       " ('the', 'DT'),\n",
       " ('Tom', 'NNP'),\n",
       " ('Rhodes', 'NNP'),\n",
       " ('Radio', 'NNP'),\n",
       " ('podcast', 'NN'),\n",
       " ('joins', 'VBZ'),\n",
       " ('Joey', 'NNP'),\n",
       " ('Diaz', 'NNP'),\n",
       " ('and', 'CC'),\n",
       " ('Lee', 'NNP'),\n",
       " ('Syatt', 'NNP'),\n",
       " ('LIVE', 'NNP'),\n",
       " ('in', 'IN'),\n",
       " ('studio', 'NN')]"
      ]
     },
     "execution_count": 3,
     "metadata": {},
     "output_type": "execute_result"
    }
   ],
   "source": [
    "# POS tagging\n",
    "text.tags"
   ]
  },
  {
   "cell_type": "code",
   "execution_count": 4,
   "metadata": {},
   "outputs": [
    {
     "data": {
      "text/plain": [
       "WordList(['tom rhodes', 'tom rhodes', 'radio podcast', 'joey diaz', 'lee syatt live'])"
      ]
     },
     "execution_count": 4,
     "metadata": {},
     "output_type": "execute_result"
    }
   ],
   "source": [
    "# noun phrase extraction\n",
    "text.noun_phrases"
   ]
  },
  {
   "cell_type": "code",
   "execution_count": 5,
   "metadata": {},
   "outputs": [
    {
     "data": {
      "text/plain": [
       "WordList(['Tom', 'Rhodes', 'a', 'touring', 'comedian', 'for', 'more', 'than', '30', 'years', 'and', 'the', 'host', 'of', 'the', 'Tom', 'Rhodes', 'Radio', 'podcast', 'joins', 'Joey', 'Diaz', 'and', 'Lee', 'Syatt', 'LIVE', 'in', 'studio'])"
      ]
     },
     "execution_count": 5,
     "metadata": {},
     "output_type": "execute_result"
    }
   ],
   "source": [
    "text.words"
   ]
  },
  {
   "cell_type": "code",
   "execution_count": 6,
   "metadata": {},
   "outputs": [
    {
     "data": {
      "text/plain": [
       "[Sentence(\"Tom Rhodes, a touring comedian for more than 30 years and\n",
       "                 the host of the Tom Rhodes Radio podcast, joins Joey Diaz\n",
       "                 and Lee Syatt LIVE in studio.\")]"
      ]
     },
     "execution_count": 6,
     "metadata": {},
     "output_type": "execute_result"
    }
   ],
   "source": [
    "text.sentences"
   ]
  },
  {
   "cell_type": "code",
   "execution_count": 14,
   "metadata": {},
   "outputs": [
    {
     "name": "stdout",
     "output_type": "stream",
     "text": [
      "Sentiment(polarity=0.3181818181818182, subjectivity=0.5)\n"
     ]
    }
   ],
   "source": [
    "for sentence in text.sentences:\n",
    "    print(sentence.sentiment)"
   ]
  },
  {
   "cell_type": "code",
   "execution_count": 15,
   "metadata": {},
   "outputs": [],
   "source": [
    "word = Word('octopus')"
   ]
  },
  {
   "cell_type": "code",
   "execution_count": 16,
   "metadata": {},
   "outputs": [
    {
     "data": {
      "text/plain": [
       "'octopu'"
      ]
     },
     "execution_count": 16,
     "metadata": {},
     "output_type": "execute_result"
    }
   ],
   "source": [
    "word.singularize()"
   ]
  },
  {
   "cell_type": "code",
   "execution_count": 17,
   "metadata": {},
   "outputs": [
    {
     "data": {
      "text/plain": [
       "'octopodes'"
      ]
     },
     "execution_count": 17,
     "metadata": {},
     "output_type": "execute_result"
    }
   ],
   "source": [
    "word.pluralize()"
   ]
  },
  {
   "cell_type": "code",
   "execution_count": 18,
   "metadata": {},
   "outputs": [
    {
     "data": {
      "text/plain": [
       "'octopus'"
      ]
     },
     "execution_count": 18,
     "metadata": {},
     "output_type": "execute_result"
    }
   ],
   "source": [
    "word.lemmatize()"
   ]
  },
  {
   "cell_type": "code",
   "execution_count": 19,
   "metadata": {},
   "outputs": [
    {
     "data": {
      "text/plain": [
       "[Synset('octopus.n.01'), Synset('octopus.n.02')]"
      ]
     },
     "execution_count": 19,
     "metadata": {},
     "output_type": "execute_result"
    }
   ],
   "source": [
    "word.synsets # synonyms"
   ]
  },
  {
   "cell_type": "code",
   "execution_count": 20,
   "metadata": {},
   "outputs": [
    {
     "data": {
      "text/plain": [
       "['tentacles of octopus prepared as food',\n",
       " 'bottom-living cephalopod having a soft oval body with eight long tentacles']"
      ]
     },
     "execution_count": 20,
     "metadata": {},
     "output_type": "execute_result"
    }
   ],
   "source": [
    "word.definitions"
   ]
  },
  {
   "cell_type": "code",
   "execution_count": 21,
   "metadata": {},
   "outputs": [
    {
     "data": {
      "text/plain": [
       "TextBlob(\"I have good spelling!\")"
      ]
     },
     "execution_count": 21,
     "metadata": {},
     "output_type": "execute_result"
    }
   ],
   "source": [
    "TextBlob(\"I havv goood speling!\").correct()"
   ]
  },
  {
   "cell_type": "code",
   "execution_count": 22,
   "metadata": {},
   "outputs": [
    {
     "data": {
      "text/plain": [
       "[('fallibility', 1.0)]"
      ]
     },
     "execution_count": 22,
     "metadata": {},
     "output_type": "execute_result"
    }
   ],
   "source": [
    "Word('falibility').spellcheck() # returns (word, confidence)"
   ]
  },
  {
   "cell_type": "code",
   "execution_count": 23,
   "metadata": {},
   "outputs": [
    {
     "data": {
      "text/plain": [
       "[WordList(['Tom', 'Rhodes', 'a']),\n",
       " WordList(['Rhodes', 'a', 'touring']),\n",
       " WordList(['a', 'touring', 'comedian']),\n",
       " WordList(['touring', 'comedian', 'for']),\n",
       " WordList(['comedian', 'for', 'more']),\n",
       " WordList(['for', 'more', 'than']),\n",
       " WordList(['more', 'than', '30']),\n",
       " WordList(['than', '30', 'years']),\n",
       " WordList(['30', 'years', 'and']),\n",
       " WordList(['years', 'and', 'the']),\n",
       " WordList(['and', 'the', 'host']),\n",
       " WordList(['the', 'host', 'of']),\n",
       " WordList(['host', 'of', 'the']),\n",
       " WordList(['of', 'the', 'Tom']),\n",
       " WordList(['the', 'Tom', 'Rhodes']),\n",
       " WordList(['Tom', 'Rhodes', 'Radio']),\n",
       " WordList(['Rhodes', 'Radio', 'podcast']),\n",
       " WordList(['Radio', 'podcast', 'joins']),\n",
       " WordList(['podcast', 'joins', 'Joey']),\n",
       " WordList(['joins', 'Joey', 'Diaz']),\n",
       " WordList(['Joey', 'Diaz', 'and']),\n",
       " WordList(['Diaz', 'and', 'Lee']),\n",
       " WordList(['and', 'Lee', 'Syatt']),\n",
       " WordList(['Lee', 'Syatt', 'LIVE']),\n",
       " WordList(['Syatt', 'LIVE', 'in']),\n",
       " WordList(['LIVE', 'in', 'studio'])]"
      ]
     },
     "execution_count": 23,
     "metadata": {},
     "output_type": "execute_result"
    }
   ],
   "source": [
    "# n-grams\n",
    "text.ngrams(n = 3)"
   ]
  },
  {
   "cell_type": "code",
   "execution_count": null,
   "metadata": {},
   "outputs": [],
   "source": []
  }
 ],
 "metadata": {
  "kernelspec": {
   "display_name": "Python 3",
   "language": "python",
   "name": "python3"
  },
  "language_info": {
   "codemirror_mode": {
    "name": "ipython",
    "version": 3
   },
   "file_extension": ".py",
   "mimetype": "text/x-python",
   "name": "python",
   "nbconvert_exporter": "python",
   "pygments_lexer": "ipython3",
   "version": "3.7.1"
  }
 },
 "nbformat": 4,
 "nbformat_minor": 2
}
